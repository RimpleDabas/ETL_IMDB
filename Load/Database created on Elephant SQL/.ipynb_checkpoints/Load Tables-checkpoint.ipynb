{
 "cells": [
  {
   "cell_type": "code",
   "execution_count": 1,
   "metadata": {},
   "outputs": [
    {
     "name": "stdout",
     "output_type": "stream",
     "text": [
      "Collecting psycopg2\n",
      "  Downloading psycopg2-2.9.6-cp310-cp310-win_amd64.whl (1.2 MB)\n",
      "     ---------------------------------------- 0.0/1.2 MB ? eta -:--:--\n",
      "     -- ------------------------------------- 0.1/1.2 MB 3.8 MB/s eta 0:00:01\n",
      "     ---------- ----------------------------- 0.3/1.2 MB 3.9 MB/s eta 0:00:01\n",
      "     ------------- -------------------------- 0.4/1.2 MB 4.0 MB/s eta 0:00:01\n",
      "     -------------- ------------------------- 0.4/1.2 MB 3.0 MB/s eta 0:00:01\n",
      "     --------------- ------------------------ 0.5/1.2 MB 2.0 MB/s eta 0:00:01\n",
      "     ------------------------- -------------- 0.7/1.2 MB 2.7 MB/s eta 0:00:01\n",
      "     ------------------------------ --------- 0.9/1.2 MB 2.9 MB/s eta 0:00:01\n",
      "     ---------------------------------------  1.2/1.2 MB 3.2 MB/s eta 0:00:01\n",
      "     ---------------------------------------- 1.2/1.2 MB 2.9 MB/s eta 0:00:00\n",
      "Installing collected packages: psycopg2\n",
      "Successfully installed psycopg2-2.9.6\n",
      "Note: you may need to restart the kernel to use updated packages.\n"
     ]
    }
   ],
   "source": [
    "pip install psycopg2"
   ]
  },
  {
   "cell_type": "code",
   "execution_count": 2,
   "metadata": {},
   "outputs": [
    {
     "ename": "UndefinedTable",
     "evalue": "relation \"actors\" does not exist\nLINE 1: INSERT INTO actors VALUES ('0','None')\n                    ^\n",
     "output_type": "error",
     "traceback": [
      "\u001b[1;31m---------------------------------------------------------------------------\u001b[0m",
      "\u001b[1;31mUndefinedTable\u001b[0m                            Traceback (most recent call last)",
      "Cell \u001b[1;32mIn[2], line 35\u001b[0m\n\u001b[0;32m     33\u001b[0m         \u001b[38;5;28;01mfor\u001b[39;00m row \u001b[38;5;129;01min\u001b[39;00m reader:\n\u001b[0;32m     34\u001b[0m             insert_query \u001b[38;5;241m=\u001b[39m \u001b[38;5;124mf\u001b[39m\u001b[38;5;124m\"\u001b[39m\u001b[38;5;124mINSERT INTO \u001b[39m\u001b[38;5;132;01m{\u001b[39;00mtable\u001b[38;5;132;01m}\u001b[39;00m\u001b[38;5;124m VALUES (\u001b[39m\u001b[38;5;132;01m{\u001b[39;00m\u001b[38;5;124m'\u001b[39m\u001b[38;5;124m,\u001b[39m\u001b[38;5;124m'\u001b[39m\u001b[38;5;241m.\u001b[39mjoin([\u001b[38;5;124m'\u001b[39m\u001b[38;5;132;01m%s\u001b[39;00m\u001b[38;5;124m'\u001b[39m] \u001b[38;5;241m*\u001b[39m \u001b[38;5;28mlen\u001b[39m(row))\u001b[38;5;132;01m}\u001b[39;00m\u001b[38;5;124m)\u001b[39m\u001b[38;5;124m\"\u001b[39m\n\u001b[1;32m---> 35\u001b[0m             \u001b[43mcur\u001b[49m\u001b[38;5;241;43m.\u001b[39;49m\u001b[43mexecute\u001b[49m\u001b[43m(\u001b[49m\u001b[43minsert_query\u001b[49m\u001b[43m,\u001b[49m\u001b[43m \u001b[49m\u001b[43mrow\u001b[49m\u001b[43m)\u001b[49m\n\u001b[0;32m     37\u001b[0m \u001b[38;5;66;03m# Commit the changes and close the cursor and connection\u001b[39;00m\n\u001b[0;32m     38\u001b[0m conn\u001b[38;5;241m.\u001b[39mcommit()\n",
      "\u001b[1;31mUndefinedTable\u001b[0m: relation \"actors\" does not exist\nLINE 1: INSERT INTO actors VALUES ('0','None')\n                    ^\n"
     ]
    }
   ],
   "source": [
    "import psycopg2\n",
    "import csv\n",
    "\n",
    "# Connect to the ElephantSQL database\n",
    "conn = psycopg2.connect(\n",
    "    host=\"drona.db.elephantsql.com\",\n",
    "    port=\"5432\",\n",
    "    database=\"jgnwunhy\",\n",
    "    user=\"jgnwunhy\",\n",
    "    password=\"cRXFIUriYT3-N4S6gTCNKNWwzsLU2qFq\"\n",
    ")\n",
    "\n",
    "# Open a cursor to perform database operations\n",
    "cur = conn.cursor()\n",
    "\n",
    "# Define a dictionary mapping table names to CSV file paths\n",
    "table_csv_mapping = {\n",
    "    \"actors\": \"actors.csv\",\n",
    "    \"award\": \"awards.csv\",\n",
    "    \"category\": \"categories.csv\",\n",
    "    \"imdb_top_250\": \"imdb_top_250.csv\",\n",
    "    \"network\": \"network.csv\",\n",
    "    \"nomination\": \"nominations.csv\",\n",
    "    \"title\": \"titles.csv\",\n",
    "    \"title_category\": \"title_categories.csv\"\n",
    "}\n",
    "\n",
    "# Load data into tables from CSV files\n",
    "for table, csv_file in table_csv_mapping.items():\n",
    "    with open(csv_file, 'r', newline='', encoding='utf-8') as file:\n",
    "        reader = csv.reader(file)\n",
    "        next(reader)  # Skip the header row\n",
    "        for row in reader:\n",
    "            insert_query = f\"INSERT INTO {table} VALUES ({','.join(['%s'] * len(row))})\"\n",
    "            cur.execute(insert_query, row)\n",
    "\n",
    "# Commit the changes and close the cursor and connection\n",
    "conn.commit()\n",
    "cur.close()\n",
    "conn.close()\n"
   ]
  },
  {
   "cell_type": "code",
   "execution_count": null,
   "metadata": {},
   "outputs": [],
   "source": []
  },
  {
   "cell_type": "code",
   "execution_count": null,
   "metadata": {},
   "outputs": [],
   "source": []
  }
 ],
 "metadata": {
  "kernelspec": {
   "display_name": "Python 3 (ipykernel)",
   "language": "python",
   "name": "python3"
  },
  "language_info": {
   "codemirror_mode": {
    "name": "ipython",
    "version": 3
   },
   "file_extension": ".py",
   "mimetype": "text/x-python",
   "name": "python",
   "nbconvert_exporter": "python",
   "pygments_lexer": "ipython3",
   "version": "3.10.9"
  }
 },
 "nbformat": 4,
 "nbformat_minor": 2
}
